{
 "cells": [
  {
   "cell_type": "code",
   "execution_count": 1,
   "metadata": {
    "scrolled": true
   },
   "outputs": [
    {
     "name": "stdout",
     "output_type": "stream",
     "text": [
      "WARNING:tensorflow:\n",
      "The TensorFlow contrib module will not be included in TensorFlow 2.0.\n",
      "For more information, please see:\n",
      "  * https://github.com/tensorflow/community/blob/master/rfcs/20180907-contrib-sunset.md\n",
      "  * https://github.com/tensorflow/addons\n",
      "  * https://github.com/tensorflow/io (for I/O related ops)\n",
      "If you depend on functionality not listed there, please file an issue.\n",
      "\n"
     ]
    }
   ],
   "source": [
    "from stable_baselines import BDQ, DQN, DDPG\n",
    "from stable_baselines.bdq.policies import ActionBranching, LnMlpActPolicy\n",
    "from stable_baselines.ddpg.policies import MlpPolicy as DDPGMlp\n",
    "from stable_baselines.common.noise import NormalActionNoise, OrnsteinUhlenbeckActionNoise, AdaptiveParamNoiseSpec\n",
    "\n",
    "from stable_baselines.deepq.policies import MlpPolicy\n",
    "import gym\n",
    "from gym.spaces import Discrete, Box\n",
    "import numpy as np\n"
   ]
  },
  {
   "cell_type": "code",
   "execution_count": 2,
   "metadata": {},
   "outputs": [],
   "source": [
    "env_name = \"Reacher-v2\""
   ]
  },
  {
   "cell_type": "code",
   "execution_count": null,
   "metadata": {},
   "outputs": [],
   "source": [
    "env_name = \"LunarLanderContinuous-v2\""
   ]
  },
  {
   "cell_type": "code",
   "execution_count": null,
   "metadata": {},
   "outputs": [],
   "source": [
    "env_name = \"Pendulum-v0\""
   ]
  },
  {
   "cell_type": "code",
   "execution_count": null,
   "metadata": {},
   "outputs": [],
   "source": [
    "env_name = \"MountainCarContinuous-v0\""
   ]
  },
  {
   "cell_type": "code",
   "execution_count": 3,
   "metadata": {},
   "outputs": [
    {
     "name": "stderr",
     "output_type": "stream",
     "text": [
      "/Users/barisyazici/anaconda3/envs/sb_action/lib/python3.6/site-packages/gym/logger.py:30: UserWarning: \u001b[33mWARN: Box bound precision lowered by casting to float32\u001b[0m\n",
      "  warnings.warn(colorize('%s: %s'%('WARN', msg % args), 'yellow'))\n"
     ]
    }
   ],
   "source": [
    "env = gym.make(env_name)"
   ]
  },
  {
   "cell_type": "code",
   "execution_count": 4,
   "metadata": {
    "scrolled": false
   },
   "outputs": [
    {
     "name": "stdout",
     "output_type": "stream",
     "text": [
      "WARNING:tensorflow:From /Users/barisyazici/Desktop/ActionBranchingQ-Learning/algorithms/bdq_sb/stable_baselines/common/tf_util.py:58: The name tf.ConfigProto is deprecated. Please use tf.compat.v1.ConfigProto instead.\n",
      "\n",
      "WARNING:tensorflow:From /Users/barisyazici/Desktop/ActionBranchingQ-Learning/algorithms/bdq_sb/stable_baselines/common/tf_util.py:67: The name tf.Session is deprecated. Please use tf.compat.v1.Session instead.\n",
      "\n",
      "WARNING:tensorflow:From /Users/barisyazici/Desktop/ActionBranchingQ-Learning/algorithms/bdq_sb/stable_baselines/bdq/build_graph.py:472: The name tf.variable_scope is deprecated. Please use tf.compat.v1.variable_scope instead.\n",
      "\n",
      "WARNING:tensorflow:From /Users/barisyazici/Desktop/ActionBranchingQ-Learning/algorithms/bdq_sb/stable_baselines/bdq/build_graph.py:473: The name tf.placeholder is deprecated. Please use tf.compat.v1.placeholder instead.\n",
      "\n",
      "WARNING:tensorflow:From /Users/barisyazici/Desktop/ActionBranchingQ-Learning/algorithms/bdq_sb/stable_baselines/bdq/build_graph.py:370: The name tf.get_variable is deprecated. Please use tf.compat.v1.get_variable instead.\n",
      "\n",
      "WARNING:tensorflow:From /Users/barisyazici/Desktop/ActionBranchingQ-Learning/algorithms/bdq_sb/stable_baselines/bdq/policies.py:178: flatten (from tensorflow.python.layers.core) is deprecated and will be removed in a future version.\n",
      "Instructions for updating:\n",
      "Use keras.layers.flatten instead.\n",
      "WARNING:tensorflow:From /Users/barisyazici/anaconda3/envs/sb_action/lib/python3.6/site-packages/tensorflow_core/python/layers/core.py:332: Layer.apply (from tensorflow.python.keras.engine.base_layer) is deprecated and will be removed in a future version.\n",
      "Instructions for updating:\n",
      "Please use `layer.__call__` method instead.\n",
      "actor q_function [<tf.Tensor 'bdq/model/add:0' shape=(?, 33) dtype=float32>, <tf.Tensor 'bdq/model/add_1:0' shape=(?, 33) dtype=float32>]\n",
      "WARNING:tensorflow:From /Users/barisyazici/Desktop/ActionBranchingQ-Learning/algorithms/bdq_sb/stable_baselines/bdq/build_graph.py:391: The name tf.random_uniform is deprecated. Please use tf.random.uniform instead.\n",
      "\n",
      "WARNING:tensorflow:From /Users/barisyazici/Desktop/ActionBranchingQ-Learning/algorithms/bdq_sb/stable_baselines/bdq/build_graph.py:490: The name tf.get_collection is deprecated. Please use tf.compat.v1.get_collection instead.\n",
      "\n",
      "WARNING:tensorflow:From /Users/barisyazici/Desktop/ActionBranchingQ-Learning/algorithms/bdq_sb/stable_baselines/bdq/build_graph.py:490: The name tf.GraphKeys is deprecated. Please use tf.compat.v1.GraphKeys instead.\n",
      "\n",
      "WARNING:tensorflow:From /Users/barisyazici/Desktop/ActionBranchingQ-Learning/algorithms/bdq_sb/stable_baselines/bdq/build_graph.py:490: The name tf.get_variable_scope is deprecated. Please use tf.compat.v1.get_variable_scope instead.\n",
      "\n",
      "q_function to optimize [<tf.Tensor 'bdq/step_model/model/add:0' shape=(?, 33) dtype=float32>, <tf.Tensor 'bdq/step_model/model/add_1:0' shape=(?, 33) dtype=float32>]\n",
      "qfunction parameters [<tf.Variable 'bdq/model/common_net/fully_connected/weights:0' shape=(11, 64) dtype=float32_ref>, <tf.Variable 'bdq/model/common_net/fully_connected/biases:0' shape=(64,) dtype=float32_ref>, <tf.Variable 'bdq/model/common_net/LayerNorm/beta:0' shape=(64,) dtype=float32_ref>, <tf.Variable 'bdq/model/common_net/LayerNorm/gamma:0' shape=(64,) dtype=float32_ref>, <tf.Variable 'bdq/model/action_value/fully_connected/weights:0' shape=(64, 64) dtype=float32_ref>, <tf.Variable 'bdq/model/action_value/fully_connected/biases:0' shape=(64,) dtype=float32_ref>, <tf.Variable 'bdq/model/action_value/LayerNorm/beta:0' shape=(64,) dtype=float32_ref>, <tf.Variable 'bdq/model/action_value/LayerNorm/gamma:0' shape=(64,) dtype=float32_ref>, <tf.Variable 'bdq/model/action_value/fully_connected_1/weights:0' shape=(64, 33) dtype=float32_ref>, <tf.Variable 'bdq/model/action_value/fully_connected_1/biases:0' shape=(33,) dtype=float32_ref>, <tf.Variable 'bdq/model/action_value/fully_connected_2/weights:0' shape=(64, 64) dtype=float32_ref>, <tf.Variable 'bdq/model/action_value/fully_connected_2/biases:0' shape=(64,) dtype=float32_ref>, <tf.Variable 'bdq/model/action_value/LayerNorm_1/beta:0' shape=(64,) dtype=float32_ref>, <tf.Variable 'bdq/model/action_value/LayerNorm_1/gamma:0' shape=(64,) dtype=float32_ref>, <tf.Variable 'bdq/model/action_value/fully_connected_3/weights:0' shape=(64, 33) dtype=float32_ref>, <tf.Variable 'bdq/model/action_value/fully_connected_3/biases:0' shape=(33,) dtype=float32_ref>, <tf.Variable 'bdq/model/state_value/fully_connected/weights:0' shape=(64, 64) dtype=float32_ref>, <tf.Variable 'bdq/model/state_value/fully_connected/biases:0' shape=(64,) dtype=float32_ref>, <tf.Variable 'bdq/model/state_value/LayerNorm/beta:0' shape=(64,) dtype=float32_ref>, <tf.Variable 'bdq/model/state_value/LayerNorm/gamma:0' shape=(64,) dtype=float32_ref>, <tf.Variable 'bdq/model/state_value/fully_connected_1/weights:0' shape=(64, 1) dtype=float32_ref>, <tf.Variable 'bdq/model/state_value/fully_connected_1/biases:0' shape=(1,) dtype=float32_ref>]\n",
      "target q_func [<tf.Tensor 'bdq/target_q_func/model/add:0' shape=(?, 33) dtype=float32>, <tf.Tensor 'bdq/target_q_func/model/add_1:0' shape=(?, 33) dtype=float32>]\n",
      "target q_func vars [<tf.Variable 'bdq/target_q_func/model/common_net/fully_connected/weights:0' shape=(11, 64) dtype=float32_ref>, <tf.Variable 'bdq/target_q_func/model/common_net/fully_connected/biases:0' shape=(64,) dtype=float32_ref>, <tf.Variable 'bdq/target_q_func/model/common_net/LayerNorm/beta:0' shape=(64,) dtype=float32_ref>, <tf.Variable 'bdq/target_q_func/model/common_net/LayerNorm/gamma:0' shape=(64,) dtype=float32_ref>, <tf.Variable 'bdq/target_q_func/model/action_value/fully_connected/weights:0' shape=(64, 64) dtype=float32_ref>, <tf.Variable 'bdq/target_q_func/model/action_value/fully_connected/biases:0' shape=(64,) dtype=float32_ref>, <tf.Variable 'bdq/target_q_func/model/action_value/LayerNorm/beta:0' shape=(64,) dtype=float32_ref>, <tf.Variable 'bdq/target_q_func/model/action_value/LayerNorm/gamma:0' shape=(64,) dtype=float32_ref>, <tf.Variable 'bdq/target_q_func/model/action_value/fully_connected_1/weights:0' shape=(64, 33) dtype=float32_ref>, <tf.Variable 'bdq/target_q_func/model/action_value/fully_connected_1/biases:0' shape=(33,) dtype=float32_ref>, <tf.Variable 'bdq/target_q_func/model/action_value/fully_connected_2/weights:0' shape=(64, 64) dtype=float32_ref>, <tf.Variable 'bdq/target_q_func/model/action_value/fully_connected_2/biases:0' shape=(64,) dtype=float32_ref>, <tf.Variable 'bdq/target_q_func/model/action_value/LayerNorm_1/beta:0' shape=(64,) dtype=float32_ref>, <tf.Variable 'bdq/target_q_func/model/action_value/LayerNorm_1/gamma:0' shape=(64,) dtype=float32_ref>, <tf.Variable 'bdq/target_q_func/model/action_value/fully_connected_3/weights:0' shape=(64, 33) dtype=float32_ref>, <tf.Variable 'bdq/target_q_func/model/action_value/fully_connected_3/biases:0' shape=(33,) dtype=float32_ref>, <tf.Variable 'bdq/target_q_func/model/state_value/fully_connected/weights:0' shape=(64, 64) dtype=float32_ref>, <tf.Variable 'bdq/target_q_func/model/state_value/fully_connected/biases:0' shape=(64,) dtype=float32_ref>, <tf.Variable 'bdq/target_q_func/model/state_value/LayerNorm/beta:0' shape=(64,) dtype=float32_ref>, <tf.Variable 'bdq/target_q_func/model/state_value/LayerNorm/gamma:0' shape=(64,) dtype=float32_ref>, <tf.Variable 'bdq/target_q_func/model/state_value/fully_connected_1/weights:0' shape=(64, 1) dtype=float32_ref>, <tf.Variable 'bdq/target_q_func/model/state_value/fully_connected_1/biases:0' shape=(1,) dtype=float32_ref>]\n",
      "double q_func [<tf.Tensor 'bdq/q_func/model/add:0' shape=(?, 33) dtype=float32>, <tf.Tensor 'bdq/q_func/model/add_1:0' shape=(?, 33) dtype=float32>]\n",
      "WARNING:tensorflow:From /Users/barisyazici/Desktop/ActionBranchingQ-Learning/algorithms/bdq_sb/stable_baselines/bdq/build_graph.py:565: The name tf.train.AdamOptimizer is deprecated. Please use tf.compat.v1.train.AdamOptimizer instead.\n",
      "\n",
      "WARNING:tensorflow:From /Users/barisyazici/anaconda3/envs/sb_action/lib/python3.6/site-packages/tensorflow_core/python/ops/clip_ops.py:172: where (from tensorflow.python.ops.array_ops) is deprecated and will be removed in a future version.\n",
      "Instructions for updating:\n",
      "Use tf.where in 2.0, which has the same broadcast rule as np.where\n"
     ]
    },
    {
     "name": "stdout",
     "output_type": "stream",
     "text": [
      "WARNING:tensorflow:From /Users/barisyazici/Desktop/ActionBranchingQ-Learning/algorithms/bdq_sb/stable_baselines/bdq/build_graph.py:613: The name tf.summary.scalar is deprecated. Please use tf.compat.v1.summary.scalar instead.\n",
      "\n",
      "WARNING:tensorflow:From /Users/barisyazici/Desktop/ActionBranchingQ-Learning/algorithms/bdq_sb/stable_baselines/bdq/build_graph.py:620: The name tf.summary.histogram is deprecated. Please use tf.compat.v1.summary.histogram instead.\n",
      "\n",
      "WARNING:tensorflow:From /Users/barisyazici/Desktop/ActionBranchingQ-Learning/algorithms/bdq_sb/stable_baselines/bdq/build_graph.py:643: The name tf.summary.merge_all is deprecated. Please use tf.compat.v1.summary.merge_all instead.\n",
      "\n",
      "trainable vars [<tf.Variable 'bdq/eps:0' shape=() dtype=float32_ref>, <tf.Variable 'bdq/model/common_net/fully_connected/weights:0' shape=(11, 64) dtype=float32_ref>, <tf.Variable 'bdq/model/common_net/fully_connected/biases:0' shape=(64,) dtype=float32_ref>, <tf.Variable 'bdq/model/common_net/LayerNorm/beta:0' shape=(64,) dtype=float32_ref>, <tf.Variable 'bdq/model/common_net/LayerNorm/gamma:0' shape=(64,) dtype=float32_ref>, <tf.Variable 'bdq/model/action_value/fully_connected/weights:0' shape=(64, 64) dtype=float32_ref>, <tf.Variable 'bdq/model/action_value/fully_connected/biases:0' shape=(64,) dtype=float32_ref>, <tf.Variable 'bdq/model/action_value/LayerNorm/beta:0' shape=(64,) dtype=float32_ref>, <tf.Variable 'bdq/model/action_value/LayerNorm/gamma:0' shape=(64,) dtype=float32_ref>, <tf.Variable 'bdq/model/action_value/fully_connected_1/weights:0' shape=(64, 33) dtype=float32_ref>, <tf.Variable 'bdq/model/action_value/fully_connected_1/biases:0' shape=(33,) dtype=float32_ref>, <tf.Variable 'bdq/model/action_value/fully_connected_2/weights:0' shape=(64, 64) dtype=float32_ref>, <tf.Variable 'bdq/model/action_value/fully_connected_2/biases:0' shape=(64,) dtype=float32_ref>, <tf.Variable 'bdq/model/action_value/LayerNorm_1/beta:0' shape=(64,) dtype=float32_ref>, <tf.Variable 'bdq/model/action_value/LayerNorm_1/gamma:0' shape=(64,) dtype=float32_ref>, <tf.Variable 'bdq/model/action_value/fully_connected_3/weights:0' shape=(64, 33) dtype=float32_ref>, <tf.Variable 'bdq/model/action_value/fully_connected_3/biases:0' shape=(33,) dtype=float32_ref>, <tf.Variable 'bdq/model/state_value/fully_connected/weights:0' shape=(64, 64) dtype=float32_ref>, <tf.Variable 'bdq/model/state_value/fully_connected/biases:0' shape=(64,) dtype=float32_ref>, <tf.Variable 'bdq/model/state_value/LayerNorm/beta:0' shape=(64,) dtype=float32_ref>, <tf.Variable 'bdq/model/state_value/LayerNorm/gamma:0' shape=(64,) dtype=float32_ref>, <tf.Variable 'bdq/model/state_value/fully_connected_1/weights:0' shape=(64, 1) dtype=float32_ref>, <tf.Variable 'bdq/model/state_value/fully_connected_1/biases:0' shape=(1,) dtype=float32_ref>, <tf.Variable 'bdq/target_q_func/model/common_net/fully_connected/weights:0' shape=(11, 64) dtype=float32_ref>, <tf.Variable 'bdq/target_q_func/model/common_net/fully_connected/biases:0' shape=(64,) dtype=float32_ref>, <tf.Variable 'bdq/target_q_func/model/common_net/LayerNorm/beta:0' shape=(64,) dtype=float32_ref>, <tf.Variable 'bdq/target_q_func/model/common_net/LayerNorm/gamma:0' shape=(64,) dtype=float32_ref>, <tf.Variable 'bdq/target_q_func/model/action_value/fully_connected/weights:0' shape=(64, 64) dtype=float32_ref>, <tf.Variable 'bdq/target_q_func/model/action_value/fully_connected/biases:0' shape=(64,) dtype=float32_ref>, <tf.Variable 'bdq/target_q_func/model/action_value/LayerNorm/beta:0' shape=(64,) dtype=float32_ref>, <tf.Variable 'bdq/target_q_func/model/action_value/LayerNorm/gamma:0' shape=(64,) dtype=float32_ref>, <tf.Variable 'bdq/target_q_func/model/action_value/fully_connected_1/weights:0' shape=(64, 33) dtype=float32_ref>, <tf.Variable 'bdq/target_q_func/model/action_value/fully_connected_1/biases:0' shape=(33,) dtype=float32_ref>, <tf.Variable 'bdq/target_q_func/model/action_value/fully_connected_2/weights:0' shape=(64, 64) dtype=float32_ref>, <tf.Variable 'bdq/target_q_func/model/action_value/fully_connected_2/biases:0' shape=(64,) dtype=float32_ref>, <tf.Variable 'bdq/target_q_func/model/action_value/LayerNorm_1/beta:0' shape=(64,) dtype=float32_ref>, <tf.Variable 'bdq/target_q_func/model/action_value/LayerNorm_1/gamma:0' shape=(64,) dtype=float32_ref>, <tf.Variable 'bdq/target_q_func/model/action_value/fully_connected_3/weights:0' shape=(64, 33) dtype=float32_ref>, <tf.Variable 'bdq/target_q_func/model/action_value/fully_connected_3/biases:0' shape=(33,) dtype=float32_ref>, <tf.Variable 'bdq/target_q_func/model/state_value/fully_connected/weights:0' shape=(64, 64) dtype=float32_ref>, <tf.Variable 'bdq/target_q_func/model/state_value/fully_connected/biases:0' shape=(64,) dtype=float32_ref>, <tf.Variable 'bdq/target_q_func/model/state_value/LayerNorm/beta:0' shape=(64,) dtype=float32_ref>, <tf.Variable 'bdq/target_q_func/model/state_value/LayerNorm/gamma:0' shape=(64,) dtype=float32_ref>, <tf.Variable 'bdq/target_q_func/model/state_value/fully_connected_1/weights:0' shape=(64, 1) dtype=float32_ref>, <tf.Variable 'bdq/target_q_func/model/state_value/fully_connected_1/biases:0' shape=(1,) dtype=float32_ref>]\n",
      "WARNING:tensorflow:From /Users/barisyazici/Desktop/ActionBranchingQ-Learning/algorithms/bdq_sb/stable_baselines/common/tf_util.py:108: The name tf.global_variables is deprecated. Please use tf.compat.v1.global_variables instead.\n",
      "\n",
      "WARNING:tensorflow:From /Users/barisyazici/Desktop/ActionBranchingQ-Learning/algorithms/bdq_sb/stable_baselines/common/tf_util.py:109: The name tf.variables_initializer is deprecated. Please use tf.compat.v1.variables_initializer instead.\n",
      "\n"
     ]
    }
   ],
   "source": [
    "model = BDQ(LnMlpActPolicy, env, verbose=2, exploration_fraction=0.5, exploration_final_eps=0.1, \n",
    "            num_actions_pad=33, learning_starts=20000, learning_rate=1e-4,\n",
    "            tensorboard_log='tensorboard_logs/'+env_name, full_tensorboard_log=True)"
   ]
  },
  {
   "cell_type": "code",
   "execution_count": null,
   "metadata": {},
   "outputs": [],
   "source": [
    "model.get_parameter_list()"
   ]
  },
  {
   "cell_type": "code",
   "execution_count": null,
   "metadata": {},
   "outputs": [],
   "source": [
    "model.step_model.q_values"
   ]
  },
  {
   "cell_type": "code",
   "execution_count": null,
   "metadata": {},
   "outputs": [],
   "source": [
    "model.policy.processed_obs"
   ]
  },
  {
   "cell_type": "code",
   "execution_count": null,
   "metadata": {
    "scrolled": false
   },
   "outputs": [],
   "source": [
    "model.learn(total_timesteps=100000)"
   ]
  },
  {
   "cell_type": "code",
   "execution_count": null,
   "metadata": {},
   "outputs": [],
   "source": [
    "model.save(env_name)"
   ]
  },
  {
   "cell_type": "code",
   "execution_count": null,
   "metadata": {},
   "outputs": [],
   "source": [
    "model.load('MountainCarContinuous-v0.zip')"
   ]
  },
  {
   "cell_type": "code",
   "execution_count": null,
   "metadata": {
    "scrolled": false
   },
   "outputs": [],
   "source": [
    "obs = env.reset()\n",
    "while True:\n",
    "    action, _states = model.predict(obs)\n",
    "    obs, rewards, dones, info = env.step(action)\n",
    "    env.render()\n",
    "    if dones:\n",
    "        obs = env.reset()"
   ]
  },
  {
   "cell_type": "code",
   "execution_count": null,
   "metadata": {},
   "outputs": [],
   "source": [
    "np.transpose(acts)[0].shape"
   ]
  }
 ],
 "metadata": {
  "kernelspec": {
   "display_name": "sb_action",
   "language": "python",
   "name": "sb_action"
  },
  "language_info": {
   "codemirror_mode": {
    "name": "ipython",
    "version": 3
   },
   "file_extension": ".py",
   "mimetype": "text/x-python",
   "name": "python",
   "nbconvert_exporter": "python",
   "pygments_lexer": "ipython3",
   "version": "3.6.10"
  }
 },
 "nbformat": 4,
 "nbformat_minor": 4
}
